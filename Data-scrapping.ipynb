{
 "cells": [
  {
   "cell_type": "code",
   "execution_count": 1,
   "id": "cac8abbd",
   "metadata": {},
   "outputs": [],
   "source": [
    "# Importing the necessary libraries\n",
    "from bs4 import BeautifulSoup\n",
    "import requests\n",
    "import pandas as pd"
   ]
  },
  {
   "cell_type": "code",
   "execution_count": 2,
   "id": "f91ea7f7",
   "metadata": {},
   "outputs": [],
   "source": [
    "url = 'https://www.amazon.com/b?node=283155'"
   ]
  },
  {
   "cell_type": "code",
   "execution_count": 3,
   "id": "04b065b0",
   "metadata": {},
   "outputs": [],
   "source": [
    "user_agent = 'Mozilla/5.0 (X11; Linux x86_64) AppleWebKit/537.36 (KHTML, like Gecko) Chrome/119.0.0.0 Safari/537.36'\n",
    "HEADERS = {'User-Agent': user_agent, 'Accept-Language': 'en-US, en;q=0.5'}"
   ]
  },
  {
   "cell_type": "code",
   "execution_count": 4,
   "id": "7890c317",
   "metadata": {},
   "outputs": [],
   "source": [
    "# Defining Headers\n",
    "HEADERS = ({'User_Agent':user_agent, 'Accept-Language':'en-US, en;q=0.5'})"
   ]
  },
  {
   "cell_type": "code",
   "execution_count": 5,
   "id": "a74c00d3",
   "metadata": {},
   "outputs": [
    {
     "data": {
      "text/plain": [
       "<Response [503]>"
      ]
     },
     "execution_count": 5,
     "metadata": {},
     "output_type": "execute_result"
    }
   ],
   "source": [
    "# http request\n",
    "import time\n",
    "\n",
    "# Add a delay of 2 seconds before making the request\n",
    "time.sleep(2)\n",
    "\n",
    "webpage = requests.get(url, headers = HEADERS)\n",
    "webpage"
   ]
  },
  {
   "cell_type": "code",
   "execution_count": 6,
   "id": "3947d4c6",
   "metadata": {},
   "outputs": [
    {
     "name": "stdout",
     "output_type": "stream",
     "text": [
      "<!--\n",
      "        To discuss automated access to Amazon data please contact api-services-support@amazon.com.\n",
      "        For information about migrating to our APIs refer to our Marketplace APIs at https://developer.amazonservices.com/ref=rm_5_sv, or our Product Advertising API at https://affiliate-program.amazon.com/gp/advertising/api/detail/main.html/ref=rm_5_ac for advertising use cases.\n",
      "-->\n",
      "<!DOCTYPE html>\n",
      "\n",
      "<html>\n",
      "<head>\n",
      "<meta charset=\"utf-8\"/>\n",
      "<meta content=\"ie=edge\" http-equiv=\"x-ua-compatible\"/>\n",
      "<meta content=\"width=device-width, initial-scale=1, shrink-to-fit=no\" name=\"viewport\"/>\n",
      "<title>Sorry! Something went wrong!</title>\n",
      "<style>\n",
      "  html, body {\n",
      "    padding: 0;\n",
      "    margin: 0\n",
      "  }\n",
      "\n",
      "  img {\n",
      "    border: 0\n",
      "  }\n",
      "\n",
      "  #a {\n",
      "    background: #232f3e;\n",
      "    padding: 11px 11px 11px 192px\n",
      "  }\n",
      "\n",
      "  #b {\n",
      "    position: absolute;\n",
      "    left: 22px;\n",
      "    top: 12px\n",
      "  }\n",
      "\n",
      "  #c {\n",
      "    position: relative;\n",
      "    max-width: 800px;\n",
      "    padding: 0 40px 0 0\n",
      "  }\n",
      "\n",
      "  #e, #f {\n",
      "    height: 35px;\n",
      "    border: 0;\n",
      "    font-size: 1em\n",
      "  }\n",
      "\n",
      "  #e {\n",
      "    width: 100%;\n",
      "    margin: 0;\n",
      "    padding: 0 10px;\n",
      "    border-radius: 4px 0 0 4px\n",
      "  }\n",
      "\n",
      "  #f {\n",
      "    cursor: pointer;\n",
      "    background: #febd69;\n",
      "    font-weight: bold;\n",
      "    border-radius: 0 4px 4px 0;\n",
      "    -webkit-appearance: none;\n",
      "    position: absolute;\n",
      "    top: 0;\n",
      "    right: 0;\n",
      "    padding: 0 12px\n",
      "  }\n",
      "\n",
      "  @media (max-width: 500px) {\n",
      "    #a {\n",
      "      padding: 55px 10px 10px\n",
      "    }\n",
      "\n",
      "    #b {\n",
      "      left: 6px\n",
      "    }\n",
      "  }\n",
      "\n",
      "  #g {\n",
      "    text-align: center;\n",
      "    margin: 30px 0\n",
      "  }\n",
      "\n",
      "  #g img {\n",
      "    max-width: 90%\n",
      "  }\n",
      "\n",
      "  #d {\n",
      "    display: none\n",
      "  }\n",
      "\n",
      "  #d[src] {\n",
      "    display: inline\n",
      "  }\n",
      "  </style>\n",
      "</head>\n",
      "<body>\n",
      "<a href=\"/ref=cs_503_logo\"><img alt=\"Amazon.com\" id=\"b\" src=\"https://images-na.ssl-images-amazon.com/images/G/01/error/logo._TTD_.png\"/></a>\n",
      "<form accept-charset=\"utf-8\" action=\"/s\" id=\"a\" method=\"GET\" role=\"search\">\n",
      "<div id=\"c\">\n",
      "<input id=\"e\" name=\"field-keywords\" placeholder=\"Search\"/>\n",
      "<input name=\"ref\" type=\"hidden\" value=\"cs_503_search\"/>\n",
      "<input id=\"f\" type=\"submit\" value=\"Go\"/>\n",
      "</div>\n",
      "</form>\n",
      "<div id=\"g\">\n",
      "<div><a href=\"/ref=cs_503_link\"><img alt=\"Sorry! Something went wrong on our end. Please go back and try again or go to Amazon's home page.\" src=\"https://images-na.ssl-images-amazon.com/images/G/01/error/500_503.png\"/></a>\n",
      "</div>\n",
      "<a href=\"/dogsofamazon/ref=cs_503_d\" rel=\"noopener noreferrer\" target=\"_blank\"><img alt=\"Dogs of Amazon\" id=\"d\"/></a>\n",
      "<script>document.getElementById(\"d\").src = \"https://images-na.ssl-images-amazon.com/images/G/01/error/\" + (Math.floor(Math.random() * 43) + 1) + \"._TTD_.jpg\";</script>\n",
      "</div>\n",
      "</body>\n",
      "</html>\n",
      "\n"
     ]
    }
   ],
   "source": [
    "soup = BeautifulSoup(webpage.content, 'html.parser')\n",
    "print(soup)"
   ]
  },
  {
   "cell_type": "code",
   "execution_count": 7,
   "id": "12bdb2c2",
   "metadata": {},
   "outputs": [
    {
     "data": {
      "text/plain": [
       "[]"
      ]
     },
     "execution_count": 7,
     "metadata": {},
     "output_type": "execute_result"
    }
   ],
   "source": [
    "\n",
    "# Fetch links as List of Tag Objects\n",
    "links = soup.find_all(\"a\", attrs={'class':'a-link-normal'})\n",
    "links"
   ]
  },
  {
   "cell_type": "code",
   "execution_count": null,
   "id": "ec37d7a7",
   "metadata": {},
   "outputs": [],
   "source": []
  }
 ],
 "metadata": {
  "kernelspec": {
   "display_name": "python3(learn-env)",
   "language": "python",
   "name": "learn-env"
  },
  "language_info": {
   "codemirror_mode": {
    "name": "ipython",
    "version": 3
   },
   "file_extension": ".py",
   "mimetype": "text/x-python",
   "name": "python",
   "nbconvert_exporter": "python",
   "pygments_lexer": "ipython3",
   "version": "3.10.12"
  }
 },
 "nbformat": 4,
 "nbformat_minor": 5
}
